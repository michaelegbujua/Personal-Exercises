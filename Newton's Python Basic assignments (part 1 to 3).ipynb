{
 "cells": [
  {
   "cell_type": "markdown",
   "id": "8b041059",
   "metadata": {},
   "source": [
    "# Newton's Assignment , Part 1"
   ]
  },
  {
   "cell_type": "code",
   "execution_count": 1,
   "id": "020cc929",
   "metadata": {},
   "outputs": [],
   "source": [
    "# 1. Write a program that generates  50 random integers between 3 and 6"
   ]
  },
  {
   "cell_type": "code",
   "execution_count": 6,
   "id": "7abd4f72",
   "metadata": {},
   "outputs": [
    {
     "name": "stdout",
     "output_type": "stream",
     "text": [
      "[3, 6, 5, 5, 5, 5, 3, 5, 5, 3, 4, 3, 6, 3, 6, 4, 6, 3, 6, 4, 4, 4, 4, 5, 6, 4, 4, 4, 4, 6, 5, 6, 5, 5, 6, 6, 5, 5, 6, 6, 5, 3, 3, 3, 4, 4, 6, 5, 6, 6]\n"
     ]
    }
   ],
   "source": [
    "import random\n",
    "\n",
    "random_list = []\n",
    "for i in range(0, 50):\n",
    "    n = random.randint(3,6)\n",
    "    random_list.append(n)\n",
    "print(random_list)    \n",
    "\n"
   ]
  },
  {
   "cell_type": "code",
   "execution_count": 2,
   "id": "aea3c4de",
   "metadata": {},
   "outputs": [],
   "source": [
    "# 2. Write a program that generates a random number x,  between 1 and 50, and a random number y, between 2 and 5 an compute x**y"
   ]
  },
  {
   "cell_type": "code",
   "execution_count": 22,
   "id": "1b66fddb",
   "metadata": {},
   "outputs": [
    {
     "name": "stdout",
     "output_type": "stream",
     "text": [
      "x to power y: [0.1458, 0.3776, 0.2949, 0.9052, 0.1968, 0.7989, 0.5694, 0.6853, 0.0025, 0.0385, 0.115, 0.9566, 0.0238, 0.0028, 0.8428, 0.1219, 0.1484, 0.0549, 0.4444, 0.9964, 0.501, 0.7696, 0.0255, 0.0028, 0.0132, 0.0, 0.4343, 0.3227, 0.7027, 0.0024, 0.215, 0.005, 0.3037, 0.0048, 0.4883, 0.0914, 0.0014, 0.7187, 0.0892, 0.066, 0.1007, 0.218, 0.0153, 0.0733, 0.5457, 0.0442, 0.0, 0.501, 0.5184]\n"
     ]
    }
   ],
   "source": [
    "import math\n",
    "import random\n",
    "\n",
    "random_x = []\n",
    "random_y = []\n",
    "\n",
    "\n",
    "#generating numbers for x\n",
    "for i in range(1, 50):\n",
    "    num_x = random.random()\n",
    "    random_x.append(num_x)\n",
    "    \n",
    "     #generating  numbers for y\n",
    "    num_y = random.randint(2, 5)\n",
    "    random_y.append(num_y) \n",
    "#print('random X numbers Includes: ', random_x )\n",
    "#print('random Y numbers Includes: ', random_y)\n",
    "    \n",
    "\n",
    "compute_ = [ (round(random_x[j]**(random_y[j]),4)) for j in range(0, len(random_y))]    \n",
    "\n",
    "print( 'x to power y:',compute_)"
   ]
  },
  {
   "cell_type": "code",
   "execution_count": 28,
   "id": "a276c897",
   "metadata": {},
   "outputs": [],
   "source": [
    "#3. write a program that generate a random number between 1 and 10, and print your name as many times"
   ]
  },
  {
   "cell_type": "code",
   "execution_count": 53,
   "id": "7664f4ae",
   "metadata": {},
   "outputs": [
    {
     "name": "stdout",
     "output_type": "stream",
     "text": [
      "enter your first name: mike \n",
      "3\n",
      "mike mike mike \n"
     ]
    }
   ],
   "source": [
    "#in this file random has already been imported, no need of repeating it\n",
    "name = input(\"enter your first name: \")\n",
    "\n",
    "randnum = []\n",
    "num =random.randint(1, 10)\n",
    "mult = num * name\n",
    "randnum.append(mult)\n",
    "print(num)\n",
    "print(mult)\n",
    "\n",
    "\n",
    "\n"
   ]
  },
  {
   "cell_type": "code",
   "execution_count": 83,
   "id": "a1a99b33",
   "metadata": {},
   "outputs": [],
   "source": [
    "#4. write a program that  generates a random decimal number between 1 and 10, with 2 decimal places of accuracy"
   ]
  },
  {
   "cell_type": "code",
   "execution_count": 54,
   "id": "f5f2cf34",
   "metadata": {},
   "outputs": [
    {
     "name": "stdout",
     "output_type": "stream",
     "text": [
      "[1.24, 5.04, 4.46, 3.3, 6.27, 6.66, 3.8, 3.53, 2.52]\n"
     ]
    }
   ],
   "source": [
    "rand_dec = []\n",
    "for i in range(1, 10):\n",
    "    float_num =  round(random.uniform(1,10), 2)\n",
    "    rand_dec.append(float_num)\n",
    "print(rand_dec)\n",
    "    "
   ]
  },
  {
   "cell_type": "code",
   "execution_count": 11,
   "id": "d339344d",
   "metadata": {},
   "outputs": [],
   "source": [
    "#5. write a program that will generate 50 random numbers,such that the first number is between 1 and 2, \n",
    "#the second number is between 1 and 3, the third number is between 1 and 4, an the last one is between 1 and 51 "
   ]
  },
  {
   "cell_type": "code",
   "execution_count": 10,
   "id": "ce2b5744",
   "metadata": {},
   "outputs": [
    {
     "name": "stdout",
     "output_type": "stream",
     "text": [
      "[1, 3, 4, 47, 1, 3, 1, 7, 1, 3, 4, 1, 1, 3, 1, 7, 2, 1, 4, 45, 2, 1, 3, 28, 2, 1, 2, 3, 1, 3, 3, 30, 2, 3, 1, 1, 2, 1, 1, 5, 2, 2, 1, 24, 1, 1, 4, 12, 2, 3, 4, 31, 2, 3, 4, 10, 1, 1, 3, 24, 2, 3, 2, 25, 2, 3, 1, 19, 1, 2, 2, 35, 2, 1, 3, 45, 2, 2, 1, 17, 1, 2, 3, 4, 1, 2, 2, 50, 1, 1, 4, 23, 1, 2, 1, 19, 1, 1, 3, 29, 2, 3, 3, 20, 2, 3, 4, 26, 1, 3, 3, 15, 2, 2, 4, 29, 1, 2, 2, 4, 2, 1, 4, 23, 2, 3, 4, 35, 1, 2, 4, 38, 1, 1, 1, 34, 2, 1, 1, 50, 2, 3, 4, 8, 1, 2, 4, 27, 1, 1, 1, 22, 1, 1, 2, 16, 2, 1, 4, 40, 1, 1, 3, 29, 1, 1, 3, 5, 1, 2, 3, 40, 2, 1, 1, 7, 2, 2, 2, 36, 1, 1, 4, 49, 1, 1, 1, 1, 1, 2, 4, 10, 1, 1, 4, 21, 1, 2, 1, 24, 1, 2, 2, 16]\n"
     ]
    }
   ],
   "source": [
    "\n",
    "num_list = []\n",
    "for i in range(51):\n",
    "    first_num = random.randint(1, 2)\n",
    "    num_list.append(first_num)\n",
    "    \n",
    "    sec_num = random.randint(1, 3)\n",
    "    num_list.append(sec_num)\n",
    "    \n",
    "    third_num = random.randint(1, 4)\n",
    "    num_list.append(third_num)\n",
    "    \n",
    "    last_num = random.randint(1, 51)\n",
    "    num_list.append(last_num)\n",
    "    \n",
    "print(num_list)    \n",
    "  "
   ]
  },
  {
   "cell_type": "code",
   "execution_count": 14,
   "id": "240ce38c",
   "metadata": {},
   "outputs": [],
   "source": [
    "#6. write a program that ask user to enter value for x and y, then computes abs(x - y)/(x + y)"
   ]
  },
  {
   "cell_type": "code",
   "execution_count": 55,
   "id": "9f0103d3",
   "metadata": {},
   "outputs": [
    {
     "name": "stdout",
     "output_type": "stream",
     "text": [
      "Enter value for X: 6\n",
      "Enter value for Y: 8\n",
      "0.143\n"
     ]
    }
   ],
   "source": [
    "x = int(input('Enter value for X: '))\n",
    "y = int(input('Enter value for Y: '))\n",
    "\n",
    "abs_sub = abs(x - y)\n",
    "sum_ = x + y\n",
    "calc_ =  round(abs_sub / sum_ , 3)\n",
    "print(calc_)"
   ]
  },
  {
   "cell_type": "code",
   "execution_count": 52,
   "id": "7ff63c48",
   "metadata": {},
   "outputs": [],
   "source": [
    "#7. write a program that asks the user to enter an angle between -180 and 180,\n",
    "#using an expression with the modulo operator, convert the angle to its equivalent between 0 and 360 degrees"
   ]
  },
  {
   "cell_type": "code",
   "execution_count": 59,
   "id": "f797e7d7",
   "metadata": {},
   "outputs": [
    {
     "name": "stdout",
     "output_type": "stream",
     "text": [
      "enter an angle between -180 and 180-270\n",
      "-4.7124\n"
     ]
    }
   ],
   "source": [
    "x = float(input('enter an angle between -180 and 180'))\n",
    "\n",
    "if x % 180 == 0:\n",
    "    print('incorrect value for x')\n",
    "else:\n",
    "    radian_conv = round((x/180)* math.pi, 4)\n",
    "    print(radian_conv)\n"
   ]
  },
  {
   "cell_type": "markdown",
   "id": "d1f7181f",
   "metadata": {},
   "source": [
    "# Newton's Assignment , Part 2"
   ]
  },
  {
   "cell_type": "code",
   "execution_count": 11,
   "id": "55d08897",
   "metadata": {},
   "outputs": [],
   "source": [
    "#8. write a program that ask user for a number in seconds and print out how many munites and seconds that is"
   ]
  },
  {
   "cell_type": "code",
   "execution_count": 57,
   "id": "c46580c0",
   "metadata": {},
   "outputs": [
    {
     "name": "stdout",
     "output_type": "stream",
     "text": [
      "Enter time in seconds: 105\n",
      "time in minutes is  1, while time in seconds is 45\n"
     ]
    }
   ],
   "source": [
    "time_sec = int(input('Enter time in seconds: '))\n",
    "minuits = time_sec // 60\n",
    "secs = time_sec % 60\n",
    "print(f'time in minutes is  {minuits}, while time in seconds is {secs}')"
   ]
  },
  {
   "cell_type": "code",
   "execution_count": 17,
   "id": "aa24e732",
   "metadata": {},
   "outputs": [],
   "source": [
    "#9. wrte a program that will ask user for an hour between 1 and 12, and for how many hours they want to go in the future\n",
    "#print what the hour will be that many hours in the future"
   ]
  },
  {
   "cell_type": "code",
   "execution_count": 59,
   "id": "a8bd37c3",
   "metadata": {},
   "outputs": [
    {
     "name": "stdout",
     "output_type": "stream",
     "text": [
      "Enter hours between 1 and 12 : 2\n",
      "Enter how many hours in the future 3\n",
      "New hour is :  7\n"
     ]
    }
   ],
   "source": [
    "hours = int(input('Enter hours between 1 and 12 : '))\n",
    "future = int(input('Enter how many hours in the future '))\n",
    "\n",
    "if hours >= 13 or future  >= 13:\n",
    "    print('you entered a wrong hour, try again with hour between 1 and 12')\n",
    "elif hours < 1 or future < 1:\n",
    "    print('you entered a wrong hour, try again with hour between 1 and 12')\n",
    "else:\n",
    "    sum_time = hours + future\n",
    "    result = 24 - sum_time\n",
    "    new_hour = 12 - sum_time\n",
    "    print( 'New hour is : ', abs(new_hour))"
   ]
  },
  {
   "cell_type": "code",
   "execution_count": 14,
   "id": "89c5c01f",
   "metadata": {},
   "outputs": [],
   "source": [
    "#10 (a). one way to find out the last digit of a number is to mod the number by 10, write a program that ask user to \n",
    "#enter a power. Then find the last digit of 2 raise to that power "
   ]
  },
  {
   "cell_type": "code",
   "execution_count": 22,
   "id": "072e7d99",
   "metadata": {},
   "outputs": [
    {
     "name": "stdout",
     "output_type": "stream",
     "text": [
      "Enter the power 7\n",
      "128.0\n",
      "7\n"
     ]
    }
   ],
   "source": [
    "pow = int(input('Enter the power ') )\n",
    "pow_mod = pow % 10\n",
    "digit_2 = math.pow(2, pow)\n",
    "print(digit_2)\n",
    "print( pow_mod )"
   ]
  },
  {
   "cell_type": "code",
   "execution_count": null,
   "id": "37ebc04b",
   "metadata": {},
   "outputs": [],
   "source": [
    "# 10(b). "
   ]
  },
  {
   "cell_type": "code",
   "execution_count": null,
   "id": "3fd7af3b",
   "metadata": {},
   "outputs": [],
   "source": []
  },
  {
   "cell_type": "code",
   "execution_count": 9,
   "id": "9a01976d",
   "metadata": {},
   "outputs": [],
   "source": [
    "#11. Write a program that ask users to enter their weight in Kilogram, the program should convert it to pounds\n",
    "#printing the answer rounded to the nearest tenth of a pound"
   ]
  },
  {
   "cell_type": "code",
   "execution_count": 13,
   "id": "563e65d5",
   "metadata": {},
   "outputs": [
    {
     "name": "stdout",
     "output_type": "stream",
     "text": [
      "Enter weight in Kilogram: 90\n",
      "The weight in Pounds  198.4\n"
     ]
    }
   ],
   "source": [
    "weight_kg = int(input('Enter weight in Kilogram: '))\n",
    "CONS = 2.2046\n",
    "weight_lb = round(weight_kg * CONS, 1)\n",
    "print('The weight in Pounds ', weight_lb)"
   ]
  },
  {
   "cell_type": "code",
   "execution_count": 14,
   "id": "b0e1674c",
   "metadata": {},
   "outputs": [],
   "source": [
    "#12. write a program that ask user for a number and print the factorial of that number, n! =n×(n−1)!"
   ]
  },
  {
   "cell_type": "code",
   "execution_count": 45,
   "id": "1608a0d4",
   "metadata": {},
   "outputs": [],
   "source": [
    "def factorial(num):\n",
    "    \n",
    "    if num < 0 :\n",
    "        return -1\n",
    "    \n",
    "    elif num == 0:\n",
    "        return 1\n",
    "    \n",
    "    else:\n",
    "        x = num * factorial(num - 1) \n",
    "        return x\n",
    "        \n",
    "        "
   ]
  },
  {
   "cell_type": "code",
   "execution_count": 44,
   "id": "1c7995ac",
   "metadata": {},
   "outputs": [
    {
     "ename": "RecursionError",
     "evalue": "maximum recursion depth exceeded",
     "output_type": "error",
     "traceback": [
      "\u001b[1;31m---------------------------------------------------------------------------\u001b[0m",
      "\u001b[1;31mRecursionError\u001b[0m                            Traceback (most recent call last)",
      "\u001b[1;32m<ipython-input-44-3fd9b1939623>\u001b[0m in \u001b[0;36m<module>\u001b[1;34m\u001b[0m\n\u001b[1;32m----> 1\u001b[1;33m \u001b[0mfactorial\u001b[0m\u001b[1;33m(\u001b[0m\u001b[1;36m3\u001b[0m\u001b[1;33m)\u001b[0m\u001b[1;33m\u001b[0m\u001b[1;33m\u001b[0m\u001b[0m\n\u001b[0m",
      "\u001b[1;32m<ipython-input-43-6edc10f63e18>\u001b[0m in \u001b[0;36mfactorial\u001b[1;34m(num)\u001b[0m\n\u001b[0;32m      1\u001b[0m \u001b[1;32mdef\u001b[0m \u001b[0mfactorial\u001b[0m\u001b[1;33m(\u001b[0m\u001b[0mnum\u001b[0m\u001b[1;33m)\u001b[0m\u001b[1;33m:\u001b[0m\u001b[1;33m\u001b[0m\u001b[1;33m\u001b[0m\u001b[0m\n\u001b[0;32m      2\u001b[0m \u001b[1;33m\u001b[0m\u001b[0m\n\u001b[1;32m----> 3\u001b[1;33m     \u001b[0mx\u001b[0m \u001b[1;33m=\u001b[0m \u001b[0mnum\u001b[0m \u001b[1;33m*\u001b[0m \u001b[0mfactorial\u001b[0m\u001b[1;33m(\u001b[0m\u001b[0mnum\u001b[0m \u001b[1;33m-\u001b[0m \u001b[1;36m1\u001b[0m\u001b[1;33m)\u001b[0m\u001b[1;33m\u001b[0m\u001b[1;33m\u001b[0m\u001b[0m\n\u001b[0m\u001b[0;32m      4\u001b[0m     \u001b[1;32mif\u001b[0m \u001b[0mnum\u001b[0m \u001b[1;33m<\u001b[0m \u001b[1;36m0\u001b[0m \u001b[1;33m:\u001b[0m\u001b[1;33m\u001b[0m\u001b[1;33m\u001b[0m\u001b[0m\n\u001b[0;32m      5\u001b[0m         \u001b[1;32mreturn\u001b[0m \u001b[0mprint\u001b[0m\u001b[1;33m(\u001b[0m\u001b[1;34m'factorial is : '\u001b[0m\u001b[1;33m,\u001b[0m \u001b[1;33m-\u001b[0m\u001b[1;36m1\u001b[0m\u001b[1;33m)\u001b[0m\u001b[1;33m\u001b[0m\u001b[1;33m\u001b[0m\u001b[0m\n",
      "... last 1 frames repeated, from the frame below ...\n",
      "\u001b[1;32m<ipython-input-43-6edc10f63e18>\u001b[0m in \u001b[0;36mfactorial\u001b[1;34m(num)\u001b[0m\n\u001b[0;32m      1\u001b[0m \u001b[1;32mdef\u001b[0m \u001b[0mfactorial\u001b[0m\u001b[1;33m(\u001b[0m\u001b[0mnum\u001b[0m\u001b[1;33m)\u001b[0m\u001b[1;33m:\u001b[0m\u001b[1;33m\u001b[0m\u001b[1;33m\u001b[0m\u001b[0m\n\u001b[0;32m      2\u001b[0m \u001b[1;33m\u001b[0m\u001b[0m\n\u001b[1;32m----> 3\u001b[1;33m     \u001b[0mx\u001b[0m \u001b[1;33m=\u001b[0m \u001b[0mnum\u001b[0m \u001b[1;33m*\u001b[0m \u001b[0mfactorial\u001b[0m\u001b[1;33m(\u001b[0m\u001b[0mnum\u001b[0m \u001b[1;33m-\u001b[0m \u001b[1;36m1\u001b[0m\u001b[1;33m)\u001b[0m\u001b[1;33m\u001b[0m\u001b[1;33m\u001b[0m\u001b[0m\n\u001b[0m\u001b[0;32m      4\u001b[0m     \u001b[1;32mif\u001b[0m \u001b[0mnum\u001b[0m \u001b[1;33m<\u001b[0m \u001b[1;36m0\u001b[0m \u001b[1;33m:\u001b[0m\u001b[1;33m\u001b[0m\u001b[1;33m\u001b[0m\u001b[0m\n\u001b[0;32m      5\u001b[0m         \u001b[1;32mreturn\u001b[0m \u001b[0mprint\u001b[0m\u001b[1;33m(\u001b[0m\u001b[1;34m'factorial is : '\u001b[0m\u001b[1;33m,\u001b[0m \u001b[1;33m-\u001b[0m\u001b[1;36m1\u001b[0m\u001b[1;33m)\u001b[0m\u001b[1;33m\u001b[0m\u001b[1;33m\u001b[0m\u001b[0m\n",
      "\u001b[1;31mRecursionError\u001b[0m: maximum recursion depth exceeded"
     ]
    }
   ],
   "source": [
    "factorial(3)"
   ]
  },
  {
   "cell_type": "code",
   "execution_count": 46,
   "id": "c9269c3a",
   "metadata": {},
   "outputs": [],
   "source": [
    "#13 write a program that ask the user for a number , and print sine, cosine and tangent of that number"
   ]
  },
  {
   "cell_type": "code",
   "execution_count": 53,
   "id": "d688043b",
   "metadata": {},
   "outputs": [
    {
     "name": "stdout",
     "output_type": "stream",
     "text": [
      "Enter a number1\n",
      "sine 1 is : 0.841\n",
      "cosine 1 is : 0.54\n",
      "tangent 1 is : 1.557\n"
     ]
    }
   ],
   "source": [
    "num = int(input('Enter a number'))\n",
    "x = round(math.sin(num), 3)\n",
    "print(f'sine {num} is : {x}')\n",
    "\n",
    "y = round(math.cos(num), 3)\n",
    "print(f'cosine {num} is : {y}')\n",
    "\n",
    "z = round(math.tan(num), 3)\n",
    "print(f'tangent {num} is : {z}')"
   ]
  },
  {
   "cell_type": "code",
   "execution_count": null,
   "id": "bdc23a5c",
   "metadata": {},
   "outputs": [],
   "source": [
    "#14. write a program that takes an angle in degree and print the sine of the ange"
   ]
  },
  {
   "cell_type": "code",
   "execution_count": 59,
   "id": "d353f2a9",
   "metadata": {},
   "outputs": [
    {
     "name": "stdout",
     "output_type": "stream",
     "text": [
      "Enter an angle in degrees 180\n",
      "sine 180 is : -0.801\n"
     ]
    }
   ],
   "source": [
    "deg_ang = int(input('Enter an angle in degrees '))\n",
    "x = round(math.sin(deg_ang), 3)\n",
    "\n",
    "print(f'sine {deg_ang} is : {x}')\n"
   ]
  },
  {
   "cell_type": "markdown",
   "id": "96b87444",
   "metadata": {},
   "source": [
    "# Newton's Assignment , Part 3"
   ]
  },
  {
   "cell_type": "code",
   "execution_count": 60,
   "id": "b99c3786",
   "metadata": {},
   "outputs": [],
   "source": [
    "#1. write a program that ask users to enter length in centimeters, if the user enters a negative length \n",
    "#it should print that the entry is invalid, Otherwise the program should convert the length to Inches, hint: 2.54cm = 1 inch"
   ]
  },
  {
   "cell_type": "code",
   "execution_count": 61,
   "id": "2a80a3f4",
   "metadata": {},
   "outputs": [
    {
     "name": "stdout",
     "output_type": "stream",
     "text": [
      "Enter a length in centimeters9\n",
      "the length in Inches : 22.86\n"
     ]
    }
   ],
   "source": [
    "len_cm = int(input('Enter a length in centimeters '))\n",
    "CONS = 2.54\n",
    "if len_cm < 0:\n",
    "    print('The length is invalid and negative')\n",
    "else:\n",
    "    \n",
    "    len_inch = len_cm * CONS\n",
    "    print('the length in Inches :', len_inch)"
   ]
  },
  {
   "cell_type": "code",
   "execution_count": 1,
   "id": "a755fb85",
   "metadata": {},
   "outputs": [],
   "source": [
    "#2. Ask user for temperature , then ask what unit, celcuis or farenheit. your program should convert \n",
    "#the temperature to the other unit.  f=(9/5)*(c+32), c=(5/9)(f-32)"
   ]
  },
  {
   "cell_type": "code",
   "execution_count": 14,
   "id": "f74aa73d",
   "metadata": {},
   "outputs": [
    {
     "name": "stdout",
     "output_type": "stream",
     "text": [
      "Enter temperature-237.15\n",
      "Enter unit, =>  F/C f\n",
      "Temperature in Celcius is:  -149.528\n"
     ]
    }
   ],
   "source": [
    "temp = float(input('Enter temperature'))\n",
    "unit = input('Enter unit, =>  F/C ').lower()\n",
    "if unit == 'c':\n",
    "    fah = round((9/5) * (temp + 32), 3)\n",
    "    print('Temperature in Fahrenheit is: ', fah)\n",
    "    \n",
    "elif unit == 'f':\n",
    "    cel = round((5/9) * (temp - 32), 3)\n",
    "    print('Temperature in Celcius is: ', cel)\n",
    "    \n",
    "else:\n",
    "    print('your temperature or unit is invalid')\n"
   ]
  },
  {
   "cell_type": "code",
   "execution_count": 10,
   "id": "d3c77cc7",
   "metadata": {},
   "outputs": [],
   "source": [
    "#3. Ask user to enter temperature in celcius, the program should print message based on the temperature.\n",
    "# k = c+237.15"
   ]
  },
  {
   "cell_type": "code",
   "execution_count": 46,
   "id": "b70a4b2d",
   "metadata": {},
   "outputs": [
    {
     "name": "stdout",
     "output_type": "stream",
     "text": [
      "Enter temperature in Celcius: -76\n"
     ]
    }
   ],
   "source": [
    "temp_c = float(input(\"Enter temperature in Celcius: \"))\n",
    "CONS = 273.15\n",
    "kel = temp_c + CONS\n",
    "\n",
    "#temperature less than 273.15, is invalid (below absolute zero)\n",
    "if kel < -(CONS) :\n",
    "    print('INVALID: this temperature is below absolute zero', kel)\n",
    "\n",
    "#temperature exactly 273.15, is absolute zero level\n",
    "elif kel == -(CONS):\n",
    "    print('Temperature is at absolute Zero (in kelvin):', kel)\n",
    "    \n",
    "#temperature between -273.15 and 0 is at freezing point    \n",
    "elif kel <= 0  and kel >= -273.15:\n",
    "    print('Temperature is at freezing point (in kelvin): ', kel)\n",
    "    \n",
    "#temperature between 0 and 100, is at normal range\n",
    "elif kel >= 273.15 and kel < 373.15:\n",
    "    print('Temperature is within Normal range (in kelvin): ', kel)\n",
    "    \n",
    "#temperature exactly 100 , boiling point  \n",
    "elif kel == 373.15:\n",
    "    print('Temperature is at boiling point (in kelvin): ', kel)\n",
    "\n",
    "#temperature above 100\n",
    "elif kel > 373.15: \n",
    "    print('Temperature is above the boiling point (in kelvin): ', kel)\n",
    "    \n"
   ]
  },
  {
   "cell_type": "code",
   "execution_count": null,
   "id": "468cff4c",
   "metadata": {},
   "outputs": [],
   "source": [
    "# 4. wrrite a program that ask the user how many creits they have taken, if they've taken 23 or less, \n",
    "#print the stuent as freshman, if they've taken between 24 to 53 print the student is a sophomore, \n",
    "#if student have taken 54 to 83 print junior, for 84 and above print senior"
   ]
  },
  {
   "cell_type": "code",
   "execution_count": 50,
   "id": "48dd87fb",
   "metadata": {},
   "outputs": [
    {
     "name": "stdout",
     "output_type": "stream",
     "text": [
      "enter number of Credits taken87\n",
      "SENIOR\n"
     ]
    }
   ],
   "source": [
    "credit = int(input('enter number of Credits taken'))\n",
    "if credit <= 23:\n",
    "    print('FRESHMAN')\n",
    "    \n",
    "elif credit >= 24 and credit <= 53:\n",
    "    print('SOPHOMORE')\n",
    "    \n",
    "elif credit >= 54 and credit <= 83:\n",
    "    print('JUNIOR')\n",
    "    \n",
    "elif credit >= 84:\n",
    "    print('SENIOR')\n",
    "    \n",
    "else:\n",
    "    print('invalid credit entered')"
   ]
  },
  {
   "cell_type": "markdown",
   "id": "10f946a7",
   "metadata": {},
   "source": [
    "# Assignment Part 4"
   ]
  },
  {
   "cell_type": "code",
   "execution_count": null,
   "id": "1b4c49e8",
   "metadata": {},
   "outputs": [],
   "source": []
  },
  {
   "cell_type": "code",
   "execution_count": 2,
   "id": "2e12a78c",
   "metadata": {},
   "outputs": [],
   "source": [
    "#10. ask user to enter 10 numbers, (a) print out the highest and lowest score (b)print the average of the scores\n",
    "#(c)print the second largest score (d) if any of the score is greater than 100 after it\n",
    "#have been entered warn the user that a score is > 100"
   ]
  },
  {
   "cell_type": "code",
   "execution_count": 8,
   "id": "c4904a7e",
   "metadata": {},
   "outputs": [
    {
     "name": "stdout",
     "output_type": "stream",
     "text": [
      "Enter a score: 50\n",
      "Enter a score: 48\n",
      "Enter a score: 43\n",
      "Enter a score: 23\n",
      "Enter a score: 6\n",
      "Enter a score: 7\n",
      "Enter a score: 43\n",
      "Enter a score: 12\n",
      "Enter a score: 9\n",
      "Enter a score: 86\n",
      "[50, 48, 43, 23, 6, 7, 43, 12, 9, 86]\n",
      "lowest score:  6\n",
      "Highest score:  86\n"
     ]
    }
   ],
   "source": [
    "scores = []\n",
    "r = 0\n",
    "while r < 10:\n",
    "    x = int(input('Enter a score: '))\n",
    "    scores.append(x)\n",
    "    r = r + 1\n",
    "print(scores) \n",
    "\n",
    "#(a) print out the highest and lowest score\n",
    "scores.sort()\n",
    "lowest = scores[0]\n",
    "highest = scores[9]\n",
    "print('lowest score: ', lowest)\n",
    "print('Highest score: ', highest)"
   ]
  },
  {
   "cell_type": "code",
   "execution_count": 9,
   "id": "ab09ec17",
   "metadata": {},
   "outputs": [
    {
     "name": "stdout",
     "output_type": "stream",
     "text": [
      "the average of the scores:  32.7\n"
     ]
    }
   ],
   "source": [
    "#10(b)print the average of the scores\n",
    "sum = 0\n",
    "for i in scores:\n",
    "    sum = sum + i\n",
    "#print(sum)\n",
    "avg_ = round(sum/len(scores), 3)\n",
    "print('the average of the scores: ', avg_)"
   ]
  },
  {
   "cell_type": "code",
   "execution_count": 10,
   "id": "95623f5a",
   "metadata": {},
   "outputs": [
    {
     "name": "stdout",
     "output_type": "stream",
     "text": [
      "Second largest score:  50\n"
     ]
    }
   ],
   "source": [
    "#10(c)print the second largest score\n",
    "sec_largest = scores[8]\n",
    "print('Second largest score: ', sec_largest)"
   ]
  },
  {
   "cell_type": "code",
   "execution_count": 11,
   "id": "175b84c2",
   "metadata": {},
   "outputs": [],
   "source": [
    "#10.(d) if any of the score is greater than 100 after it have been entered warn the user that a score is > 100\n",
    "for i in scores:\n",
    "    if x > 100:\n",
    "        print(\"You entered a value greater than 100\")"
   ]
  },
  {
   "cell_type": "code",
   "execution_count": 12,
   "id": "9f8a200c",
   "metadata": {},
   "outputs": [
    {
     "name": "stdout",
     "output_type": "stream",
     "text": [
      "32.7\n"
     ]
    }
   ],
   "source": [
    "#10(e). drop the lowest score and the second lowest score, print the average\n",
    "\n",
    "#scores.del(lowest - 1)\n",
    "scores.remove(scores[0])\n",
    "print(avg_)"
   ]
  },
  {
   "cell_type": "code",
   "execution_count": 13,
   "id": "306db3d3",
   "metadata": {},
   "outputs": [
    {
     "data": {
      "text/plain": [
       "[7, 9, 12, 23, 43, 43, 48, 50, 86]"
      ]
     },
     "execution_count": 13,
     "metadata": {},
     "output_type": "execute_result"
    }
   ],
   "source": [
    "scores"
   ]
  },
  {
   "cell_type": "code",
   "execution_count": null,
   "id": "39ab8da5",
   "metadata": {},
   "outputs": [],
   "source": []
  }
 ],
 "metadata": {
  "kernelspec": {
   "display_name": "Python 3",
   "language": "python",
   "name": "python3"
  },
  "language_info": {
   "codemirror_mode": {
    "name": "ipython",
    "version": 3
   },
   "file_extension": ".py",
   "mimetype": "text/x-python",
   "name": "python",
   "nbconvert_exporter": "python",
   "pygments_lexer": "ipython3",
   "version": "3.8.8"
  }
 },
 "nbformat": 4,
 "nbformat_minor": 5
}

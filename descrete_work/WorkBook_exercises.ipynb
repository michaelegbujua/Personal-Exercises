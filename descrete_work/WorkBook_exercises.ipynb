{
 "cells": [
  {
   "cell_type": "markdown",
   "id": "4e5702a2",
   "metadata": {},
   "source": [
    "# PYTHON WORKBOOK PART 1"
   ]
  },
  {
   "cell_type": "code",
   "execution_count": 1,
   "id": "7c8d8133",
   "metadata": {},
   "outputs": [
    {
     "name": "stdout",
     "output_type": "stream",
     "text": [
      "Michael Egbujua\n",
      "#1 Ogutum Close, Rumuigbo Psychiatric Road\n",
      "Port Harcourt\n",
      "michael.egbujua@gz-supplies.com\n"
     ]
    }
   ],
   "source": [
    "# Ex1. Create a program that displays your name and complete mailing address formatted in\n",
    "#the manner that you would usually see it on the outside of an envelope. Your program\n",
    "#does not need to read any input from the user.\n",
    "\n",
    "name = 'Michael Egbujua'\n",
    "address1 = '#1 Ogutum Close, Rumuigbo Psychiatric Road'\n",
    "address2 = 'Port Harcourt'\n",
    "email = 'michael.egbujua@gz-supplies.com'\n",
    "\n",
    "print(name)\n",
    "print(address1)\n",
    "print(address2)\n",
    "print(email)\n",
    "\n"
   ]
  },
  {
   "cell_type": "code",
   "execution_count": 3,
   "id": "5de78c79",
   "metadata": {},
   "outputs": [
    {
     "name": "stdout",
     "output_type": "stream",
     "text": [
      "Enter your name: Michael\n",
      "Hello!, Michael\n"
     ]
    }
   ],
   "source": [
    "# ex2. Write a program that asks the user to enter his or her name. The program should\n",
    "#respond with a message that says hello to the user, using his or her name\n",
    "\n",
    "user_name = input('Enter your name: ')\n",
    "print(f'Hello!, {user_name}')"
   ]
  },
  {
   "cell_type": "code",
   "execution_count": 6,
   "id": "4d2b4fba",
   "metadata": {},
   "outputs": [
    {
     "name": "stdout",
     "output_type": "stream",
     "text": [
      "Enter width of room in meters 34\n",
      "Enter length of room in meters12\n",
      "the Area of the room is 408.0 meters squared\n"
     ]
    }
   ],
   "source": [
    "#ex3. Write a program that asks the user to enter the width and length of a room. Once\n",
    "#the values have been read, your program should compute and display the area of the\n",
    "#room. The length and the width will be entered as floating point numbers. Include\n",
    "#units in your prompt and output message; either feet or meters, depending on which\n",
    "#unit you are more comfortable working with\n",
    "\n",
    "width_m = float(input(\"Enter width of room in meters \"))\n",
    "length_m = float(input(\"Enter length of room in meters \"))\n",
    "area_m = length_m * width_m\n",
    "print(f'the Area of the room is {area_m} meters squared')"
   ]
  },
  {
   "cell_type": "code",
   "execution_count": 16,
   "id": "22c7ce18",
   "metadata": {},
   "outputs": [
    {
     "name": "stdout",
     "output_type": "stream",
     "text": [
      "Enter width of the land 5445\n",
      "Enter length of the land 8\n",
      "unit of length and width, m, ft, inft\n",
      "Area is 1.0 acres\n"
     ]
    }
   ],
   "source": [
    "#Create a program that reads the length and width of a farmer’s field from the user in\n",
    "#feet. Display the area of the field in acres.\n",
    "\n",
    "import math\n",
    "\n",
    "width = float(input(\"Enter width of the land \"))\n",
    "length = float(input(\"Enter length of the land \"))\n",
    "unit= input('unit of length and width, m, ft, in').lower()\n",
    "area = length * width\n",
    "            \n",
    "if unit == 'm':\n",
    "            conv_m_acre = round(area * 0.000247105, 4)\n",
    "            print('Area is:', conv_m_acre)\n",
    "elif unit == 'ft':\n",
    "            conv_ft_acre = round(area * 2.2957 *math.pow(10, -5), 4)\n",
    "            print(f'Area is {conv_ft_acre} acres')\n",
    "elif unit == 'in':\n",
    "            conv_in_acre = round(area * 1.5942*math.pow(10, -7), 4)\n",
    "            print(f'Area is  {conv_in_acre} acres')\n",
    "else:\n",
    "    print(\"Invalid Units entered!!!\")"
   ]
  },
  {
   "cell_type": "code",
   "execution_count": 23,
   "id": "193817d8",
   "metadata": {},
   "outputs": [
    {
     "name": "stdout",
     "output_type": "stream",
     "text": [
      "Enter container size in liters 2\n",
      "Enter number of containers 3\n",
      "the total refund is $0.75\n"
     ]
    }
   ],
   "source": [
    "#ex5. In many jurisdictions a small deposit is added to drink containers to encourage people\n",
    "#to recycle them. In one particular jurisdiction, drink containers holding one liter or\n",
    "#less have a $0.10 deposit, and drink containers holding more than one liter have a\n",
    "#$0.25 deposit.\n",
    "#Write a program that reads the number of containers of each size from the user.\n",
    "#Your program should continue by computing and displaying the refund that will be\n",
    "#received for returning those containers. Format the output so that it includes a dollar\n",
    "#sign and always displays exactly two decimal places.\n",
    "\n",
    "cont = int(input('Enter container size in liters ')) \n",
    "num_cont = int(input('Enter number of containers '))\n",
    "if cont <= 1:\n",
    "    refund = 0.10\n",
    "    \n",
    "elif cont > 1:\n",
    "    refund = 0.25\n",
    "\n",
    "else:\n",
    "    print('wrong input')\n",
    "\n",
    "    \n",
    "total_refund = round(num_cont * refund, 2)\n",
    "print(f'the total refund is ${total_refund}')"
   ]
  },
  {
   "cell_type": "code",
   "execution_count": 2,
   "id": "be591456",
   "metadata": {},
   "outputs": [
    {
     "name": "stdout",
     "output_type": "stream",
     "text": [
      "Enter the cost of your meal: 6000\n",
      "the tax is: N450.0, meal tip is : N1080.0\n",
      "the grand total is: N7530.0\n"
     ]
    }
   ],
   "source": [
    "#ex6. The program that you create for this exercise will begin by reading the cost of a meal\n",
    "#ordered at a restaurant from the user. Then your program will compute the tax and\n",
    "#tip for the meal. Use your local tax rate when computing the amount of tax owing.\n",
    "#Compute the tip as 18 percent of the meal amount (without the tax). The output from\n",
    "#your program should include the tax amount, the tip amount, and the grand total for\n",
    "#the meal including both the tax and the tip. Format the output so that all of the values\n",
    "#are displayed using two decimal places\n",
    "\n",
    "meal_cost = float(input('Enter the cost of your meal: '))\n",
    "tax =  round(meal_cost *(7.5/100), 2)\n",
    "meal_tip = round(meal_cost *(18/100), 2)\n",
    "\n",
    "grand_total = round(tax + meal_tip + meal_cost, 2)\n",
    "print(f'the tax is: N{tax}, meal tip is : N{meal_tip}' )\n",
    "print(f'the grand total is: N{grand_total}')"
   ]
  },
  {
   "cell_type": "code",
   "execution_count": 17,
   "id": "7381bec8",
   "metadata": {},
   "outputs": [
    {
     "name": "stdout",
     "output_type": "stream",
     "text": [
      "Enter a positive integer :7\n",
      "[6, 5, 4, 3, 2, 1, 0]\n",
      "3.0\n"
     ]
    }
   ],
   "source": [
    "#Write a program that reads a positive integer, n, from the user and then displays the\n",
    "#sum of all of the integers from 1 to n. The sum of the first n positive integers can be\n",
    "#computed using the formula: sum n(n + 1)/2\n",
    "\n",
    "n = int(input('Enter a positive integer :'))\n",
    "if n < 1:\n",
    "    print(\"you entered a non-positive num\")\n",
    "else:\n",
    "    count= []\n",
    "    sum_count = 0 \n",
    "    for i in range(n):\n",
    "        n = n - 1\n",
    "        count.append(n)\n",
    "    print(count)\n",
    "    for w in count:\n",
    "        sum_count = sum_count + w\n",
    "        calc_sum = sum_count/len(count)\n",
    "    print(calc_sum)\n",
    "    \n",
    "         \n",
    "    "
   ]
  },
  {
   "cell_type": "code",
   "execution_count": 19,
   "id": "6724e1da",
   "metadata": {},
   "outputs": [
    {
     "name": "stdout",
     "output_type": "stream",
     "text": [
      "Enter the number of orders for Gizmos7\n",
      "Enter the number of orders for Widgets9\n",
      "gizmos weight is 784, while widget weight is 675\n",
      "The total weight is 1459\n"
     ]
    }
   ],
   "source": [
    "#An online retailer sells two products: widgets and gizmos. Each widget weighs 75\n",
    "#grams. Each gizmo weighs 112 grams. Write a program that reads the number of\n",
    "#widgets and the number of gizmos in an order from the user. Then your program\n",
    "#should compute and display the total weight of the order.\n",
    "giz_order = int(input('Enter the number of orders for Gizmos'))\n",
    "widg_order = int(input('Enter the number of orders for Widgets'))\n",
    "\n",
    "giz_weight = giz_order * 112\n",
    "widg_weight = widg_order * 75\n",
    "total_weight = giz_weight + widg_weight\n",
    "print(f'gizmos weight is {giz_weight}, while widget weight is {widg_weight}')\n",
    "print(f'The total weight is {total_weight}')"
   ]
  },
  {
   "cell_type": "code",
   "execution_count": 28,
   "id": "dd1a7b2f",
   "metadata": {},
   "outputs": [
    {
     "name": "stdout",
     "output_type": "stream",
     "text": [
      "Enter Amount deposit 5566\n",
      "compound interest for 1 is 5566.01\n",
      "compound interest for 2 is 5566.0\n",
      "compound interest for 3 is 5566.0\n"
     ]
    }
   ],
   "source": [
    "#Pretend that you have just opened a new savings account that earns 4 percent interest\n",
    "#per year. The interest that you earn is paid at the end of the year, and is added\n",
    "#to the balance of the savings account. Write a program that begins by reading the\n",
    "#amount of money deposited into the account from the user. Then your program should\n",
    "#compute and display the amount in the savings account after 1, 2, and 3 years. Display\n",
    "#each amount so that it is rounded to 2 decimal places    A = P(1 +(r/n)**(nt))\n",
    "\n",
    "ini_deposit = float(input(\"Enter Amount deposit \"))\n",
    "r = 0.04\n",
    "n = 4\n",
    "\n",
    "for  i in range( 1, n):\n",
    "    comp_intr = round(ini_deposit * (1 + (r/i)**(n * i)), 2)\n",
    "    print(f'compound interest for {i} is {comp_intr}')\n",
    "    \n",
    "    \n"
   ]
  },
  {
   "cell_type": "code",
   "execution_count": 33,
   "id": "c1fe53e7",
   "metadata": {},
   "outputs": [
    {
     "name": "stdout",
     "output_type": "stream",
     "text": [
      "enter value for a6\n",
      "Enter value for b3\n",
      "9\n",
      "3\n",
      "0.7782\n",
      "216.0\n"
     ]
    }
   ],
   "source": [
    "#ex10\n",
    "\n",
    "import math\n",
    "a= int(input('enter value for a'))\n",
    "b= int(input('Enter value for b'))\n",
    "add = a + b\n",
    "subst = a - b\n",
    "mult = a * b\n",
    "log10a_ = round(math.log10(a), 4)\n",
    "power = math.pow(a,b)\n",
    "\n",
    "print(add)\n",
    "print(subst)\n",
    "print(log10a_)\n",
    "print(power)"
   ]
  },
  {
   "cell_type": "code",
   "execution_count": 34,
   "id": "7bdaa0f3",
   "metadata": {},
   "outputs": [
    {
     "name": "stdout",
     "output_type": "stream",
     "text": [
      "Enter value in American  MPG3450\n",
      "the Canadian equivalence In L/100km:  811491.75\n"
     ]
    }
   ],
   "source": [
    "#In the United States, fuel efficiency for vehicles is normally expressed in miles-per gallon (MPG).\n",
    "#In Canada, fuel efficiency is normally expressed in liters-per-hundredkilometers (L/100 km). \n",
    "#Use your research skills to determine how to convert from\n",
    "#MPG to L/100 km. Then create a program that reads a value from the user in American\n",
    "#units and displays the equivalent fuel efficiency in Canadian units\n",
    "# 1MPG == 235.215L/100km\n",
    "\n",
    "MPG_value = int(input(\"Enter value in American  MPG\"))\n",
    "L_per100_value = MPG_value * 235.215\n",
    "print(\"the Canadian equivalence In L/100km: \", L_per100_value)\n"
   ]
  },
  {
   "cell_type": "code",
   "execution_count": 37,
   "id": "ecfbcd8d",
   "metadata": {},
   "outputs": [
    {
     "name": "stdout",
     "output_type": "stream",
     "text": [
      "Enter value in feet: 2\n",
      "Enter value in Inch: 2\n",
      "the value of 2.0ft is 60.96cm\n",
      "the value of 2.0ft is 5.08cm\n"
     ]
    }
   ],
   "source": [
    "#Write a program that reads a number of feet from the user, \n",
    "#followed by a number of inches. Once these values are read, your program\n",
    "#should compute and display the equivalent number of centimeters\n",
    "\n",
    "feet_value = float(input(\"Enter value in feet: \"))\n",
    "inch_value = float(input(\"Enter value in Inch: \"))\n",
    "feet_convert = round(feet_value * 12.0 * 2.54, 3)\n",
    "inch_convert = round(inch_value *2.54, 3)\n",
    "print(f'the value of {feet_value}ft is {feet_convert}cm')\n",
    "print(f'the value of {inch_value}ft is {inch_convert}cm')\n"
   ]
  },
  {
   "cell_type": "code",
   "execution_count": 39,
   "id": "083d1af1",
   "metadata": {},
   "outputs": [
    {
     "name": "stdout",
     "output_type": "stream",
     "text": [
      "Enter Distance in Feet 123\n",
      "the equivalence is : 1476.0inchs\n",
      "the equivalence is : 40.996yards\n",
      "the equivalence is : 0.023miles\n"
     ]
    }
   ],
   "source": [
    "#In this exercise, you will create a program that begins by reading a measurement\n",
    "#in feet from the user. Then your program should display the equivalent distance in\n",
    "#inches, yards and miles. Use the Internet to look up the necessary conversion factors\n",
    "#if you don’t have them memorized.\n",
    "\n",
    "dist_ft = float(input('Enter Distance in Feet '))\n",
    "dist_inch = round(dist_ft * 12.0, 3)\n",
    "dist_yard = round(dist_ft * 0.3333, 3)\n",
    "dist_mile = round(dist_ft * 0.000189394, 3)\n",
    "\n",
    "print(f'the equivalence is : {dist_inch}inchs')\n",
    "print(f'the equivalence is : {dist_yard}yards')\n",
    "print(f'the equivalence is : {dist_mile}miles')"
   ]
  },
  {
   "cell_type": "code",
   "execution_count": 41,
   "id": "dc5affb0",
   "metadata": {},
   "outputs": [
    {
     "name": "stdout",
     "output_type": "stream",
     "text": [
      "Enter radius12\n",
      "area of the circle is : 452.3893\n",
      "vol of the circle is : 7238.2295\n"
     ]
    }
   ],
   "source": [
    "#Write a program that begins by reading a radius, r, from the user. The program will\n",
    "#continue by computing and displaying the area of a circle with radius r and the\n",
    "#volume of a sphere with radius r. Use the pi constant in the math module in your\n",
    "#calculations\n",
    "\n",
    "import math\n",
    "r = float(input('Enter radius'))\n",
    "area_cir = round(math.pi * math.pow(r, 2), 4)\n",
    "vol = round((4/3)* math.pi * math.pow(r, 3), 4)\n",
    "print(f'area of the circle is : {area_cir}')\n",
    "print(f'vol of the circle is : {vol}')\n",
    "\n",
    "\n"
   ]
  },
  {
   "cell_type": "markdown",
   "id": "f64c2723",
   "metadata": {},
   "source": [
    "# if statement exercises "
   ]
  },
  {
   "cell_type": "code",
   "execution_count": 46,
   "id": "5144c582",
   "metadata": {},
   "outputs": [
    {
     "name": "stdout",
     "output_type": "stream",
     "text": [
      "enter a number 21\n",
      "The number is ODD\n"
     ]
    }
   ],
   "source": [
    "#Write a program that reads an integer from the user. Then your program should\n",
    "#display a message indicating whether the integer is even or odd\n",
    "\n",
    "num = int(input('enter a number '))\n",
    "if num % 2 == 0:\n",
    "    print(\"the number is EVEN\")\n",
    "else:\n",
    "    print('The number is ODD')"
   ]
  },
  {
   "cell_type": "code",
   "execution_count": 53,
   "id": "5481cf81",
   "metadata": {},
   "outputs": [
    {
     "name": "stdout",
     "output_type": "stream",
     "text": [
      "enter human year value2\n",
      "the dog is an Adult Dog\n"
     ]
    }
   ],
   "source": [
    "#Write a program that implements the conversion from human years to dog years\n",
    "#described in the previous paragraph. Ensure that your program works correctly for\n",
    "#conversions of less than two human years and for conversions of two or more human\n",
    "#years. Your program should display an appropriate error message if the user enters\n",
    "#a negative number\n",
    "\n",
    "hum_year = int(input('enter human year value'))\n",
    "if hum_year < 0:\n",
    "    print(\"invalid year entered\")\n",
    "elif hum_year < 2:\n",
    "    print('the dog is not yet an adult Dog')\n",
    "else:\n",
    "    print('the dog is an Adult Dog')"
   ]
  },
  {
   "cell_type": "code",
   "execution_count": 61,
   "id": "24bb792f",
   "metadata": {},
   "outputs": [
    {
     "name": "stdout",
     "output_type": "stream",
     "text": [
      "Enter a Lettere\n",
      "e is a vowel\n"
     ]
    }
   ],
   "source": [
    "#Write a program that determines the name of a shape from its number of sides. Read\n",
    "#the number of sides from the user and then report the appropriate name as part of\n",
    "#a meaningful message. Your program should support shapes with anywhere from 3\n",
    "#up to (and including) 10 sides. If a number of sides outside of this range is entered\n",
    "#then your program should display an appropriate error message.\n",
    "\n",
    "alph = input(\"Enter a Letter \").lower()\n",
    "\n",
    "if alph =='a' or alph =='e' or \\\n",
    "alph =='i' or alph == 'o' or \\\n",
    "alph =='u':\n",
    "        print(f'{alph} is a vowel')\n",
    "        \n",
    "elif alph =='y':\n",
    "    print('y is a vowel sometimes and other times its a consonant')\n",
    "        \n",
    "else:\n",
    "    print(f'{alph} is a consonant')"
   ]
  },
  {
   "cell_type": "code",
   "execution_count": 63,
   "id": "960dcabc",
   "metadata": {},
   "outputs": [
    {
     "name": "stdout",
     "output_type": "stream",
     "text": [
      "enter number of sides for the shape9\n",
      "the shape is nonagon\n"
     ]
    }
   ],
   "source": [
    "#Write a program that determines the name of a shape from its number of sides. Read\n",
    "#the number of sides from the user and then report the appropriate name as part of\n",
    "#a meaningful message. Your program should support shapes with anywhere from 3\n",
    "#up to (and including) 10 sides. If a number of sides outside of this range is entered\n",
    "#then your program should display an appropriate error message.\n",
    "\n",
    "shape = int(input('enter number of sides for the shape'))\n",
    "if shape == 3:\n",
    "    print('the shape is a Triangle')\n",
    "elif shape == 4:\n",
    "    print('the shape is a square, rectangle or parallelogram')\n",
    "elif shape == 5:\n",
    "    print('the shape is a pentagon')\n",
    "elif shape == 6:\n",
    "    print('the shape is a Hexagon')\n",
    "elif shape == 7:\n",
    "    print(\"the shape is heptagon\")\n",
    "elif shape == 8:\n",
    "    print('the shape is octagon')\n",
    "elif shape == 9:\n",
    "    print('the shape is nonagon')\n",
    "elif shape == 10:\n",
    "    print('the shape is decagon')\n",
    "else:\n",
    "    print('number out of range')"
   ]
  },
  {
   "cell_type": "code",
   "execution_count": 68,
   "id": "b3aad361",
   "metadata": {},
   "outputs": [
    {
     "name": "stdout",
     "output_type": "stream",
     "text": [
      "enter the length of the month 31\n",
      "January, March, May, July, August, December \n"
     ]
    }
   ],
   "source": [
    "#The length of a month varies from 28 to 31 days. In this exercise you will create\n",
    "#a program that reads the name of a month from the user as a string. Then your\n",
    "#program should display the number of days in that month. Display “28 or 29 days”\n",
    "#for February so that leap years are addressed\n",
    "\n",
    "month_length = int(input('enter the length of the month '))\n",
    "if month_length < 28 or month_length >31 :\n",
    "    print('invalid length of month')\n",
    "elif month_length == 28 or month_length == 29 :\n",
    "    print('February')\n",
    "elif month_length == 30 :\n",
    "    print(\"April, June, September, October, November\")\n",
    "else:\n",
    "    print(\"January, March, May, July, August, December \")"
   ]
  },
  {
   "cell_type": "code",
   "execution_count": 70,
   "id": "13127e57",
   "metadata": {},
   "outputs": [
    {
     "name": "stdout",
     "output_type": "stream",
     "text": [
      "enter value for sound level  in decibel56\n",
      "Quiet Room\n"
     ]
    }
   ],
   "source": [
    "#39\n",
    "sound_lvl= int(input('enter value for sound level  in decibel'))\n",
    "if sound_lvl < 40:\n",
    "    prnt('No Observable  sound percieved ')\n",
    "elif sound_lvl >= 40 and sound_lvl <= 69:\n",
    "    print(\"Quiet Room\")\n",
    "elif sound_lvl >= 70 and sound_lvl <= 105:\n",
    "    print(\"Alarm Clock\")\n",
    "elif sound_lvl >= 106 and sound_lvl <= 129:\n",
    "    print(\"Gas lawnmower\")\n",
    "elif sound_lvl ==130:\n",
    "    print(\"Jackhammer\")\n",
    "else:\n",
    "    print(\"Noise too louse\")"
   ]
  },
  {
   "cell_type": "code",
   "execution_count": null,
   "id": "f262d8e0",
   "metadata": {},
   "outputs": [],
   "source": []
  }
 ],
 "metadata": {
  "kernelspec": {
   "display_name": "Python 3",
   "language": "python",
   "name": "python3"
  },
  "language_info": {
   "codemirror_mode": {
    "name": "ipython",
    "version": 3
   },
   "file_extension": ".py",
   "mimetype": "text/x-python",
   "name": "python",
   "nbconvert_exporter": "python",
   "pygments_lexer": "ipython3",
   "version": "3.8.8"
  }
 },
 "nbformat": 4,
 "nbformat_minor": 5
}

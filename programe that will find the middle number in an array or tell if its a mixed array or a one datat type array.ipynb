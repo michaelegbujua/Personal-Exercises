{
 "cells": [
  {
   "cell_type": "code",
   "execution_count": null,
   "id": "942653c5",
   "metadata": {},
   "outputs": [],
   "source": []
  },
  {
   "cell_type": "code",
   "execution_count": 18,
   "id": "ff6ec462",
   "metadata": {},
   "outputs": [
    {
     "name": "stdout",
     "output_type": "stream",
     "text": [
      "maximum value : 60\n",
      "minimum Value : 9\n",
      "[9, 25, 30, 33, 40, 60]\n"
     ]
    }
   ],
   "source": [
    "q = [30, 40, 25, 33, 60, 9]\n",
    "q.sort()\n",
    "min_val = q[0]\n",
    "max_val = q[-1]\n",
    "print('maximum value :', max_val)\n",
    "print('minimum Value :' , min_val)\n",
    "print(q)\n"
   ]
  },
  {
   "cell_type": "code",
   "execution_count": 19,
   "id": "e5f51812",
   "metadata": {},
   "outputs": [
    {
     "name": "stdout",
     "output_type": "stream",
     "text": [
      "[60, 40, 33, 30, 25, 9]\n"
     ]
    }
   ],
   "source": [
    "#to change the sequence\n",
    "q.reverse()\n",
    "print(q)"
   ]
  },
  {
   "cell_type": "markdown",
   "id": "cedf951c",
   "metadata": {},
   "source": [
    "# write a programe that will find the middle number in an array:\n",
    "# - if the array is a mixture different data type\n",
    "# - it is just one data type (numbers)"
   ]
  },
  {
   "cell_type": "code",
   "execution_count": 2,
   "id": "9eb99046",
   "metadata": {},
   "outputs": [],
   "source": [
    "u  = [4.2, 55.5, 10.0, 9, 33.4, 5, 22, 2]"
   ]
  },
  {
   "cell_type": "code",
   "execution_count": 1,
   "id": "60de5d16",
   "metadata": {},
   "outputs": [
    {
     "ename": "IndentationError",
     "evalue": "unexpected indent (<ipython-input-1-7a996b07f787>, line 22)",
     "output_type": "error",
     "traceback": [
      "\u001b[1;36m  File \u001b[1;32m\"<ipython-input-1-7a996b07f787>\"\u001b[1;36m, line \u001b[1;32m22\u001b[0m\n\u001b[1;33m    else:\u001b[0m\n\u001b[1;37m    ^\u001b[0m\n\u001b[1;31mIndentationError\u001b[0m\u001b[1;31m:\u001b[0m unexpected indent\n"
     ]
    }
   ],
   "source": [
    "str_val = []\n",
    "for i in u:\n",
    "    if isinstance(i, str):\n",
    "        str_val.append(i)\n",
    "        #print(str_val)\n",
    "    #print(len(str_val))\n",
    "if len(str_val) != 0:\n",
    "    print('the Array is a mixture of Data types')\n",
    "else:\n",
    "    print('The array is a number')\n",
    "    for p in range(0, len(u)):\n",
    "        u.sort()\n",
    "        k = len(u)\n",
    "        mid= int(k/2)\n",
    "        \n",
    "        #test for odd midian\n",
    "        if (k % 2 != 0):\n",
    "            midian = u[mid]\n",
    "    print('midian is odd number: ', midian)\n",
    "            \n",
    "        #test for  even \n",
    "        else:\n",
    "            next_val = mid - 1\n",
    "            mid_odd = (u[mid] + u[next_val])/2\n",
    "            print('midian is even number: ', mid_odd)\n",
    "    \n",
    "        "
   ]
  },
  {
   "cell_type": "code",
   "execution_count": null,
   "id": "463bce77",
   "metadata": {},
   "outputs": [],
   "source": []
  }
 ],
 "metadata": {
  "kernelspec": {
   "display_name": "Python 3",
   "language": "python",
   "name": "python3"
  },
  "language_info": {
   "codemirror_mode": {
    "name": "ipython",
    "version": 3
   },
   "file_extension": ".py",
   "mimetype": "text/x-python",
   "name": "python",
   "nbconvert_exporter": "python",
   "pygments_lexer": "ipython3",
   "version": "3.8.8"
  }
 },
 "nbformat": 4,
 "nbformat_minor": 5
}

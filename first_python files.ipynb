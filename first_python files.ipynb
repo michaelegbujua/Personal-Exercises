{
 "cells": [
  {
   "cell_type": "code",
   "execution_count": 12,
   "id": "7ae0fe99",
   "metadata": {},
   "outputs": [
    {
     "data": {
      "text/plain": [
       "86"
      ]
     },
     "execution_count": 12,
     "metadata": {},
     "output_type": "execute_result"
    }
   ],
   "source": [
    "file_1 = open(\"My_file.txt\", 'a') #this code creates and opens a non-existent file in the same directory\n",
    "\n",
    "intro =\"this is a the list of students for python class\"\n",
    "stud_list =  'jane Etuk, Abidemi Ayodeji, Chukwudi Francis, Michael Egbujua, simon Peter, Nancy Orlu'\n",
    "\n",
    "file_1 = open(\"My_file.txt\", \"r+\") #this code will read and write to this present file named My_file\n",
    "file_1.write(intro)\n",
    "file_1.write(stud_list)\n"
   ]
  },
  {
   "cell_type": "code",
   "execution_count": 16,
   "id": "cd933409",
   "metadata": {},
   "outputs": [
    {
     "data": {
      "text/plain": [
       "37"
      ]
     },
     "execution_count": 16,
     "metadata": {},
     "output_type": "execute_result"
    }
   ],
   "source": [
    "file_2 = open(\"My_scores.txt\", 'a') # to create another non-existent file in same directory for scores\n",
    "intro2 =\"List of student scores in python Test\"\n",
    "stud_scores = '50, 70, 45, 79, 90, 54'  #personal observation: you cannot not create variable that aren't strings\n",
    "file_2.write(intro2)\n",
    "file_2.write(stud_scores)"
   ]
  },
  {
   "cell_type": "markdown",
   "id": "d07b77a8",
   "metadata": {},
   "source": [
    "Personal Observations\n",
    "1. => variables are created on the basis of string data type. if you try to do otherwise it throws an error\n",
    "2. => the codes are run once at a time and line by line. if you try to combine codes and run them only the first line will be executed\n"
   ]
  },
  {
   "cell_type": "code",
   "execution_count": 21,
   "id": "1921a034",
   "metadata": {},
   "outputs": [
    {
     "ename": "SyntaxError",
     "evalue": "(unicode error) 'unicodeescape' codec can't decode bytes in position 2-3: truncated \\UXXXXXXXX escape (<ipython-input-21-c1d4f0649885>, line 3)",
     "output_type": "error",
     "traceback": [
      "\u001b[1;36m  File \u001b[1;32m\"<ipython-input-21-c1d4f0649885>\"\u001b[1;36m, line \u001b[1;32m3\u001b[0m\n\u001b[1;33m    path_stud_list = 'C:\\Users\\HP\\Desktop\\pyth_exercise\\personal excercises\\My_file.txt'\u001b[0m\n\u001b[1;37m                     ^\u001b[0m\n\u001b[1;31mSyntaxError\u001b[0m\u001b[1;31m:\u001b[0m (unicode error) 'unicodeescape' codec can't decode bytes in position 2-3: truncated \\UXXXXXXXX escape\n"
     ]
    }
   ],
   "source": [
    "#reading from the path of the created textFile\n",
    "file_open= open(\"Myfile.txt\", \"r+\")\n",
    "path_stud_list = 'C:\\Users\\HP\\Desktop\\pyth_exercise\\personal excercises\\My_file.txt'\n",
    "path_stud_score = 'C:\\Users\\HP\\Desktop\\pyth_exercise\\personal excercises\\My_scores.txt'"
   ]
  },
  {
   "cell_type": "code",
   "execution_count": 3,
   "id": "6eff011c",
   "metadata": {},
   "outputs": [
    {
     "name": "stdout",
     "output_type": "stream",
     "text": [
      "[5, 6, 8, 3, 9]\n"
     ]
    }
   ],
   "source": [
    "#this code  prints length of string elements in  a list\n",
    "name_list = [\"james\", \"judeah\", \"philemon\", \"ooz\", \"tilteriot\"]\n",
    "name_count =[]\n",
    "for i in name_list:\n",
    "    k = len(i)\n",
    "    name_count.append(k)\n",
    "print(name_count)"
   ]
  },
  {
   "cell_type": "code",
   "execution_count": 4,
   "id": "5a054882",
   "metadata": {},
   "outputs": [
    {
     "data": {
      "text/plain": [
       "{'james': 5, 'judeah': 6, 'philemon': 8, 'ooz': 3, 'tilteriot': 9}"
      ]
     },
     "execution_count": 4,
     "metadata": {},
     "output_type": "execute_result"
    }
   ],
   "source": [
    "#this code converts strings element and their lengths into a dictionary \n",
    "name_dict = dict(zip(name_list, name_count))\n",
    "name_dict"
   ]
  },
  {
   "cell_type": "code",
   "execution_count": 5,
   "id": "8efb985e",
   "metadata": {},
   "outputs": [
    {
     "name": "stdout",
     "output_type": "stream",
     "text": [
      "ascending : [3, 5, 6, 8, 9]\n"
     ]
    }
   ],
   "source": [
    "#this code prints the length of strings in ascending order\n",
    "name_count.sort()\n",
    "ascend = name_count\n",
    "print('ascending :', ascend)\n"
   ]
  },
  {
   "cell_type": "code",
   "execution_count": 32,
   "id": "a208a03b",
   "metadata": {},
   "outputs": [
    {
     "data": {
      "text/plain": [
       "['james', 'judeah', 'philemon', 'ooz', 'tilteriot']"
      ]
     },
     "execution_count": 32,
     "metadata": {},
     "output_type": "execute_result"
    }
   ],
   "source": [
    "name_list"
   ]
  },
  {
   "cell_type": "code",
   "execution_count": 36,
   "id": "5ebe5b70",
   "metadata": {},
   "outputs": [
    {
     "name": "stdout",
     "output_type": "stream",
     "text": [
      "['ooz', 'james', 'judeah', 'philemon', 'tilteriot']\n"
     ]
    }
   ],
   "source": [
    "name_arrange = []\n",
    "for p in ascend:\n",
    "    for k, b in name_dict.items():\n",
    "        if b == p:\n",
    "            name_arrange.append(k)\n",
    "print(name_arrange)\n",
    "        \n"
   ]
  },
  {
   "cell_type": "code",
   "execution_count": 43,
   "id": "d94bd608",
   "metadata": {},
   "outputs": [],
   "source": [
    "name_arrange.reverse()"
   ]
  },
  {
   "cell_type": "code",
   "execution_count": 44,
   "id": "b874c79b",
   "metadata": {},
   "outputs": [
    {
     "name": "stdout",
     "output_type": "stream",
     "text": [
      "['ooz', 'james', 'judeah', 'philemon', 'tilteriot']\n"
     ]
    }
   ],
   "source": [
    "name_descend = []\n",
    "for p in ascend:\n",
    "    for k, b in name_dict.items():\n",
    "        if b == p:\n",
    "            name_descend.append(k)\n",
    "print(name_descend)"
   ]
  },
  {
   "cell_type": "code",
   "execution_count": null,
   "id": "39ad677d",
   "metadata": {},
   "outputs": [],
   "source": []
  }
 ],
 "metadata": {
  "kernelspec": {
   "display_name": "Python 3",
   "language": "python",
   "name": "python3"
  },
  "language_info": {
   "codemirror_mode": {
    "name": "ipython",
    "version": 3
   },
   "file_extension": ".py",
   "mimetype": "text/x-python",
   "name": "python",
   "nbconvert_exporter": "python",
   "pygments_lexer": "ipython3",
   "version": "3.8.8"
  }
 },
 "nbformat": 4,
 "nbformat_minor": 5
}

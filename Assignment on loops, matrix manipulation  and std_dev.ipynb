{
 "cells": [
  {
   "cell_type": "markdown",
   "id": "2ae7bd84",
   "metadata": {},
   "source": [
    "# LOOPS"
   ]
  },
  {
   "cell_type": "markdown",
   "id": "7243e936",
   "metadata": {},
   "source": [
    "Write a program using loops to answer the following:\n",
    "c = [6, 10, 20, 5, 3, 2, 1]\n",
    "# 1.  sum of c\n",
    "# 2. max value in c\n",
    "# 3. min value in c"
   ]
  },
  {
   "cell_type": "code",
   "execution_count": 1,
   "id": "9d3bfd34",
   "metadata": {},
   "outputs": [
    {
     "name": "stdout",
     "output_type": "stream",
     "text": [
      "47\n"
     ]
    }
   ],
   "source": [
    "c = [6, 10, 20, 5, 3, 2, 1]\n",
    "#use loop to obtain the sum of c\n",
    "r = 0\n",
    "for i in c:\n",
    "    r = i + r\n",
    "print(r)    "
   ]
  },
  {
   "cell_type": "code",
   "execution_count": 3,
   "id": "2c286f65",
   "metadata": {},
   "outputs": [
    {
     "name": "stdout",
     "output_type": "stream",
     "text": [
      "20\n"
     ]
    }
   ],
   "source": [
    "#use loop to obtain max value\n",
    "d = c[0]\n",
    "for i in c:\n",
    "    if i > d:\n",
    "        d = i\n",
    "print(d)"
   ]
  },
  {
   "cell_type": "code",
   "execution_count": 5,
   "id": "5448ef25",
   "metadata": {},
   "outputs": [
    {
     "name": "stdout",
     "output_type": "stream",
     "text": [
      "1\n"
     ]
    }
   ],
   "source": [
    "#use loop to obtain  min values\n",
    "d =c[0]\n",
    "for i in c:\n",
    "    if i < d:\n",
    "        d = i\n",
    "print(d)"
   ]
  },
  {
   "cell_type": "code",
   "execution_count": 26,
   "id": "e22f5e8b",
   "metadata": {},
   "outputs": [
    {
     "name": "stdout",
     "output_type": "stream",
     "text": [
      "47\n"
     ]
    }
   ],
   "source": [
    "#Alternatively\n",
    "c.sort()\n",
    "r = 0\n",
    "for i in c:\n",
    "    r= r + i\n",
    "    sum_r = r\n",
    "print(sum)"
   ]
  },
  {
   "cell_type": "code",
   "execution_count": 22,
   "id": "8d3f397a",
   "metadata": {},
   "outputs": [],
   "source": [
    "#obtaining the standard deviation of c\n",
    "#std_dev = (sum_mean - x_value)**2/len(c)"
   ]
  },
  {
   "cell_type": "code",
   "execution_count": 25,
   "id": "8a031200",
   "metadata": {},
   "outputs": [
    {
     "data": {
      "text/plain": [
       "6.714"
      ]
     },
     "execution_count": 25,
     "metadata": {},
     "output_type": "execute_result"
    }
   ],
   "source": [
    "mean_value = round(r/len(c), 3)    #r is the sum of c\n",
    "mean_value"
   ]
  },
  {
   "cell_type": "code",
   "execution_count": 113,
   "id": "daef6468",
   "metadata": {},
   "outputs": [
    {
     "data": {
      "text/plain": [
       "231.852"
      ]
     },
     "execution_count": 113,
     "metadata": {},
     "output_type": "execute_result"
    }
   ],
   "source": [
    "variance_v = round(((sum_r - mean_value)**2)/len(c), 3)\n",
    "\n",
    "variance_v"
   ]
  },
  {
   "cell_type": "code",
   "execution_count": 119,
   "id": "39e07472",
   "metadata": {},
   "outputs": [
    {
     "data": {
      "text/plain": [
       "115.926"
      ]
     },
     "execution_count": 119,
     "metadata": {},
     "output_type": "execute_result"
    }
   ],
   "source": [
    "std_dev = (variance_v)**1/2 \n",
    "\n",
    "std_dev"
   ]
  },
  {
   "cell_type": "markdown",
   "id": "7bef3418",
   "metadata": {},
   "source": [
    "# Assignment 3\n",
    "#u = [6, 8, 9, 1]\n",
    "#b = [100, 0.77, 54, 67]\n",
    "#find the difference of the standard deviation"
   ]
  },
  {
   "cell_type": "code",
   "execution_count": 32,
   "id": "393dc06e",
   "metadata": {},
   "outputs": [
    {
     "name": "stdout",
     "output_type": "stream",
     "text": [
      "[94, -7.23, 45, 66]\n"
     ]
    }
   ],
   "source": [
    "#finding the difference of two list by converting into an array\n",
    "\n",
    "u = [6, 8, 9, 1]\n",
    "b = [100, 0.77, 54, 67]\n",
    "if len(u) == len(b):\n",
    "    diff_values = []\n",
    "    for i in range(0, len(b)):\n",
    "        diff = b[i] - u[i]\n",
    "        diff_values.append(diff)\n",
    "    print(diff_values)\n",
    "\n",
    "else:\n",
    "    print('the length of the array is not equal')"
   ]
  },
  {
   "cell_type": "code",
   "execution_count": 39,
   "id": "b39b5692",
   "metadata": {},
   "outputs": [
    {
     "name": "stdout",
     "output_type": "stream",
     "text": [
      "sum of diff_values :  197.77\n"
     ]
    }
   ],
   "source": [
    "#finding the sum of resultant difference with a loop\n",
    "r = 0\n",
    "for j in diff_values:\n",
    "    r = round((r + j), 3)\n",
    "print('sum of diff_values : ', r)"
   ]
  },
  {
   "cell_type": "code",
   "execution_count": 40,
   "id": "a4793d46",
   "metadata": {},
   "outputs": [
    {
     "name": "stdout",
     "output_type": "stream",
     "text": [
      "49.443\n"
     ]
    }
   ],
   "source": [
    "#obtaining the mean\n",
    "mean_diff =round(r/len(diff_values), 3) \n",
    "print(mean_diff)"
   ]
  },
  {
   "cell_type": "code",
   "execution_count": 48,
   "id": "09ddad00",
   "metadata": {},
   "outputs": [
    {
     "name": "stdout",
     "output_type": "stream",
     "text": [
      "variance:  68.534\n",
      "Standard Deviation:  8.278526438926194\n"
     ]
    }
   ],
   "source": [
    "#calculating for variance and std_deviation\n",
    "array_val = []\n",
    "for  k in diff_values:\n",
    "    sum_mean = round((mean_diff - k )**2, 3)\n",
    "    array_val.append(sum_mean)\n",
    "#print(array_val)    \n",
    "\n",
    "\n",
    "    \n",
    "var_val = round(sum_mean/len(diff_values), 3 )\n",
    "std_dev =(var_val)**(1/2)\n",
    "print('variance: ', var_val)\n",
    "print('Standard Deviation: ', std_dev)\n"
   ]
  },
  {
   "cell_type": "markdown",
   "id": "469260e2",
   "metadata": {},
   "source": [
    "# Assisgnment 2:\n"
   ]
  },
  {
   "cell_type": "code",
   "execution_count": 3,
   "id": "2be37527",
   "metadata": {},
   "outputs": [],
   "source": [
    "list_values = [[1, 2, 3],\n",
    "               [4, 5, 6],\n",
    "               [9, 4, 7]]              \n",
    "#Obtain the diagonal members [3, 5,9]"
   ]
  },
  {
   "cell_type": "code",
   "execution_count": 4,
   "id": "8ca682e2",
   "metadata": {},
   "outputs": [
    {
     "name": "stdout",
     "output_type": "stream",
     "text": [
      "[[1, 2, 3], [4, 5, 6], [9, 4, 7]]\n"
     ]
    }
   ],
   "source": [
    "print(list_values)"
   ]
  },
  {
   "cell_type": "code",
   "execution_count": 5,
   "id": "ed89a494",
   "metadata": {},
   "outputs": [
    {
     "name": "stdout",
     "output_type": "stream",
     "text": [
      "[1, 2, 3]\n",
      "[4, 5, 6]\n",
      "[9, 4, 7]\n"
     ]
    }
   ],
   "source": [
    "\n",
    "for i in list_values:\n",
    "    new_array = []\n",
    "    for j in range(0, len(list_values)):\n",
    "        new_array.append(i[j])\n",
    "    print(new_array)"
   ]
  },
  {
   "cell_type": "code",
   "execution_count": 6,
   "id": "a01d50dd",
   "metadata": {},
   "outputs": [
    {
     "name": "stdout",
     "output_type": "stream",
     "text": [
      "1\n",
      "5\n",
      "7\n"
     ]
    }
   ],
   "source": [
    "for n in range(0, len(list_values)):\n",
    "    print(list_values[n][n])"
   ]
  },
  {
   "cell_type": "code",
   "execution_count": 25,
   "id": "0cbbb44b",
   "metadata": {},
   "outputs": [
    {
     "name": "stdout",
     "output_type": "stream",
     "text": [
      "3\n",
      "5\n",
      "9\n"
     ]
    }
   ],
   "source": [
    "for n in range(0, len(list_values)):\n",
    "     j= -n-1\n",
    "     a = list_values[n][j]\n",
    "     #print(j)\n",
    "     print(a)"
   ]
  },
  {
   "cell_type": "markdown",
   "id": "e06f2958",
   "metadata": {},
   "source": [
    "# Assignment 1: whats the difference between the split() and rsplit() methods\n",
    "    \n",
    "    \n",
    "    "
   ]
  },
  {
   "cell_type": "markdown",
   "id": "1ebac427",
   "metadata": {},
   "source": [
    "the rsplit() method is same as split() method that splits a string from the specified seperator and returns a list object with string elements, Note that : the default seperator is any whitespace such as 'space', \\t, \\n etc\n",
    "    \n",
    "    the visible difference between split and rsplit is when the maxsplit parameter is specified. if the maxsplit parameter is specified, then the rsplit() method start splitting a string  from the right side (from the last character), whereas the split() method normally starts spliting from the left\n",
    "    \n",
    "    Syntax\n",
    "    str.rsplit(seperator, maxsplit)\n",
    "    \n",
    "    where :\n",
    "  1.  seperator (is Optional) defines sharing of a delimiter string, the default seperator is any whitespace, \\t, \\n\n",
    "  2. maxsplit defines the maximum number of splits that can be done, thus, the maxsplit  can contain at most maxsplit + 1 elements. note : the default maxsplit is -1 that means unlimite"
   ]
  },
  {
   "cell_type": "code",
   "execution_count": 94,
   "id": "6ffe8b2d",
   "metadata": {},
   "outputs": [
    {
     "name": "stdout",
     "output_type": "stream",
     "text": [
      "['Hello', 'Michael']\n"
     ]
    }
   ],
   "source": [
    "#Exaamples\n",
    "my_str ='Hello Michael'\n",
    "print(my_str.rsplit())"
   ]
  },
  {
   "cell_type": "code",
   "execution_count": 95,
   "id": "9a338904",
   "metadata": {},
   "outputs": [
    {
     "name": "stdout",
     "output_type": "stream",
     "text": [
      "['Hello', 'Michael']\n"
     ]
    }
   ],
   "source": [
    "print('Hello   Michael'.rsplit())"
   ]
  },
  {
   "cell_type": "code",
   "execution_count": 96,
   "id": "e3043b38",
   "metadata": {},
   "outputs": [
    {
     "name": "stdout",
     "output_type": "stream",
     "text": [
      "['Hello', 'World']\n"
     ]
    }
   ],
   "source": [
    "print('Hello\\tWorld'.split())"
   ]
  },
  {
   "cell_type": "code",
   "execution_count": 98,
   "id": "1c45be98",
   "metadata": {},
   "outputs": [
    {
     "name": "stdout",
     "output_type": "stream",
     "text": [
      "['Hello', 'U2012set', 'World']\n"
     ]
    }
   ],
   "source": [
    "print('Hello\\nU2012set\\nWorld'.rsplit())"
   ]
  },
  {
   "cell_type": "code",
   "execution_count": 100,
   "id": "7ff1e73f",
   "metadata": {},
   "outputs": [
    {
     "name": "stdout",
     "output_type": "stream",
     "text": [
      "['C', 'Python', 'R', 'Ruby', 'Java', 'SQL', 'JavaScript', 'Hadoop']\n",
      "['apples', 'Banana', 'mango', 'pawpaw', 'guava']\n"
     ]
    }
   ],
   "source": [
    "langs = 'C,Python,R,Ruby,Java,SQL,JavaScript,Hadoop'\n",
    "print(langs.rsplit(','))\n",
    "\n",
    "\n",
    "fruits = 'apples$Banana$mango$pawpaw$guava'\n",
    "print(fruits.rsplit('$'))"
   ]
  },
  {
   "cell_type": "code",
   "execution_count": 110,
   "id": "557224f1",
   "metadata": {},
   "outputs": [
    {
     "name": "stdout",
     "output_type": "stream",
     "text": [
      "['C,Python,R,Ruby,Java', 'SQL', 'JavaScript', 'Hadoop']\n"
     ]
    }
   ],
   "source": [
    "#inserting maxsplit, to set limits,\n",
    "#NOTE: the spliting for rsplit(),  starts from the right  and is based on the designated limit\n",
    "\n",
    "\n",
    "\n",
    "langs = 'C,Python,R,Ruby,Java,SQL,JavaScript,Hadoop'\n",
    "print(langs.rsplit(',', 3))"
   ]
  },
  {
   "cell_type": "code",
   "execution_count": 111,
   "id": "25fa5b1f",
   "metadata": {},
   "outputs": [
    {
     "name": "stdout",
     "output_type": "stream",
     "text": [
      "['apples$Banana$mango', 'pawpaw', 'guava']\n"
     ]
    }
   ],
   "source": [
    "fruits = 'apples$Banana$mango$pawpaw$guava'\n",
    "print(fruits.rsplit('$', 2))"
   ]
  },
  {
   "cell_type": "code",
   "execution_count": 112,
   "id": "8ccf5ff7",
   "metadata": {},
   "outputs": [
    {
     "name": "stdout",
     "output_type": "stream",
     "text": [
      "['Nancy', 'Terry', 'Pope', 'Otiekwu@Sabastine@Esse']\n"
     ]
    }
   ],
   "source": [
    "#NOTE: the spliting for split(), starts from the right  and is based on the designated limit\n",
    "\n",
    "u2012set = 'Nancy@Terry@Pope@Otiekwu@Sabastine@Esse'\n",
    "print(u2012set.split('@', 3))"
   ]
  },
  {
   "cell_type": "code",
   "execution_count": 2,
   "id": "093dfd99",
   "metadata": {},
   "outputs": [],
   "source": [
    "\n",
    "u = [\"mike\", \"kolawale\", \"jumbo\", \"crazvilejake\"]"
   ]
  },
  {
   "cell_type": "code",
   "execution_count": 3,
   "id": "499b994b",
   "metadata": {},
   "outputs": [
    {
     "name": "stdout",
     "output_type": "stream",
     "text": [
      "[4, 8, 5, 12]\n"
     ]
    }
   ],
   "source": [
    "#count the length of every string \n",
    "j =[]\n",
    "for i in u:\n",
    "    b = len(i)\n",
    "    j.append(b)\n",
    "print(j)\n",
    "    "
   ]
  },
  {
   "cell_type": "code",
   "execution_count": 4,
   "id": "8429c2e0",
   "metadata": {},
   "outputs": [
    {
     "name": "stdout",
     "output_type": "stream",
     "text": [
      "12\n",
      "4\n"
     ]
    }
   ],
   "source": [
    "#fining maiximum an minmum values\n",
    "j.sort()\n",
    "max_val = j[-1]\n",
    "min_val =j[0]\n",
    "print(max_val)\n",
    "print(min_val)"
   ]
  },
  {
   "cell_type": "code",
   "execution_count": 5,
   "id": "95f0ebb1",
   "metadata": {},
   "outputs": [
    {
     "name": "stdout",
     "output_type": "stream",
     "text": [
      "{'mike': 4, 'kolawale': 5, 'jumbo': 8, 'crazvilejake': 12}\n"
     ]
    }
   ],
   "source": [
    "#conervting to ictionary\n",
    "combine = dict(zip(u,j))\n",
    "print(combine)"
   ]
  },
  {
   "cell_type": "code",
   "execution_count": 17,
   "id": "f3839ba9",
   "metadata": {},
   "outputs": [
    {
     "name": "stdout",
     "output_type": "stream",
     "text": [
      "[55.5, 10.0, 5, 22]\n",
      "['john', 'lemmy', 'pogba', 'leo']\n"
     ]
    }
   ],
   "source": [
    "p = [\"john\", 55.5, 10.0,\"lemmy\", \"pogba\", 5, 22, \"leo\"]\n",
    "num_vals = []\n",
    "str_vals = []\n",
    "for i in p:\n",
    "    if isinstance(i, int):\n",
    "        num_vals.append(i)\n",
    "        \n",
    "    elif isinstance(i, float):\n",
    "        num_vals.append(i)\n",
    "    \n",
    "    elif isinstance(i, str):\n",
    "        str_vals.append(i)\n",
    "print(num_vals)\n",
    "print(str_vals)\n",
    "\n",
    "    \n"
   ]
  },
  {
   "cell_type": "code",
   "execution_count": 19,
   "id": "8810f1ee",
   "metadata": {},
   "outputs": [
    {
     "name": "stdout",
     "output_type": "stream",
     "text": [
      "{'john': 55.5, 'lemmy': 10.0, 'pogba': 5, 'leo': 22}\n"
     ]
    }
   ],
   "source": [
    "combine = dict(zip(str_vals, num_vals))\n",
    "print(combine)"
   ]
  },
  {
   "cell_type": "code",
   "execution_count": 1,
   "id": "6adc4d71",
   "metadata": {},
   "outputs": [
    {
     "data": {
      "text/plain": [
       "array([4, 5, 2])"
      ]
     },
     "execution_count": 1,
     "metadata": {},
     "output_type": "execute_result"
    }
   ],
   "source": [
    "import numpy as np\n",
    "np.array([True, 1, 2]) + np.array([3, 4, False])"
   ]
  },
  {
   "cell_type": "code",
   "execution_count": 2,
   "id": "3ff54bea",
   "metadata": {},
   "outputs": [
    {
     "data": {
      "text/plain": [
       "array([4, 5, 2])"
      ]
     },
     "execution_count": 2,
     "metadata": {},
     "output_type": "execute_result"
    }
   ],
   "source": [
    "np.array([4, 3, 0]) + np.array([0, 2, 2])"
   ]
  },
  {
   "cell_type": "code",
   "execution_count": null,
   "id": "20692a9b",
   "metadata": {},
   "outputs": [],
   "source": []
  }
 ],
 "metadata": {
  "kernelspec": {
   "display_name": "Python 3",
   "language": "python",
   "name": "python3"
  },
  "language_info": {
   "codemirror_mode": {
    "name": "ipython",
    "version": 3
   },
   "file_extension": ".py",
   "mimetype": "text/x-python",
   "name": "python",
   "nbconvert_exporter": "python",
   "pygments_lexer": "ipython3",
   "version": "3.8.8"
  }
 },
 "nbformat": 4,
 "nbformat_minor": 5
}

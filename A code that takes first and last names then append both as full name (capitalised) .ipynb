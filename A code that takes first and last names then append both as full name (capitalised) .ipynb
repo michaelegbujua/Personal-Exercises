{
 "cells": [
  {
   "cell_type": "code",
   "execution_count": 12,
   "id": "7409d54a",
   "metadata": {},
   "outputs": [
    {
     "name": "stdout",
     "output_type": "stream",
     "text": [
      "['Bola Tola', 'Nnamdi Jnamdi', 'Ben Uen', 'Philly Thilly']\n"
     ]
    }
   ],
   "source": [
    "f_name = ['bola', 'nnamdi','ben', 'philly']\n",
    "l_name = ['teddy', 'juan', 'uli', 'tode']\n",
    "\n",
    "#initialize bot list into arrarys\n",
    "newf_name = []\n",
    "newl_name = []\n",
    "\n",
    "#test if the array size is the same\n",
    "if len(f_name) != len(l_name):\n",
    "    print('The array size must be equal!')\n",
    "    \n",
    "else:\n",
    "    for i in range(0, len(f_name)):\n",
    "        z = f_name[i][0].upper() + f_name[i][1:]\n",
    "        p = l_name[i][0].upper() + f_name[i][1:]\n",
    "        newf_name.append(z)\n",
    "        newl_name.append(p)\n",
    "        \n",
    "        #implementing full name    \n",
    "    fullname = []\n",
    "    for i in range(0, len(newf_name)):\n",
    "        full = f\"{newf_name[i]} {newl_name[i]}\"\n",
    "        fullname.append(full)\n",
    "print(fullname)        \n",
    "       "
   ]
  },
  {
   "cell_type": "code",
   "execution_count": null,
   "id": "cbc1ac69",
   "metadata": {},
   "outputs": [],
   "source": []
  }
 ],
 "metadata": {
  "kernelspec": {
   "display_name": "Python 3",
   "language": "python",
   "name": "python3"
  },
  "language_info": {
   "codemirror_mode": {
    "name": "ipython",
    "version": 3
   },
   "file_extension": ".py",
   "mimetype": "text/x-python",
   "name": "python",
   "nbconvert_exporter": "python",
   "pygments_lexer": "ipython3",
   "version": "3.8.8"
  }
 },
 "nbformat": 4,
 "nbformat_minor": 5
}
